{
 "cells": [
  {
   "cell_type": "code",
   "execution_count": 1,
   "metadata": {},
   "outputs": [
    {
     "name": "stdout",
     "output_type": "stream",
     "text": [
      "[[  1   2  30]\n",
      " [ 40  50 -98]\n",
      " [ 80  98  77]]\n",
      "[[  8 -98  54]\n",
      " [ 87  98 970]\n",
      " [ 14  85  98]]\n"
     ]
    }
   ],
   "source": [
    "import numpy as np \n",
    "from flask import Flask , redirect , render_template\n",
    "import scipy as sc \n",
    "import sympy as sp \n",
    "import matplotlib.pyplot as plt\n",
    "from   datetime import date,datetime,timezone,timedelta\n",
    "\n",
    "import  sqlite3 as sq \n",
    "\n",
    "\n",
    "A = np.array([[1,2,30],[40,50,-98],[80,98,77]])\n",
    "B  = np.array([[8,-98,54],[87,98,970],[14,85,98]])\n",
    "\n",
    "print(A)\n",
    "print(B)\n"
   ]
  }
 ],
 "metadata": {
  "kernelspec": {
   "display_name": "Python 3.10.4 64-bit",
   "language": "python",
   "name": "python3"
  },
  "language_info": {
   "codemirror_mode": {
    "name": "ipython",
    "version": 3
   },
   "file_extension": ".py",
   "mimetype": "text/x-python",
   "name": "python",
   "nbconvert_exporter": "python",
   "pygments_lexer": "ipython3",
   "version": "3.10.4"
  },
  "orig_nbformat": 4,
  "vscode": {
   "interpreter": {
    "hash": "369f2c481f4da34e4445cda3fffd2e751bd1c4d706f27375911949ba6bb62e1c"
   }
  }
 },
 "nbformat": 4,
 "nbformat_minor": 2
}
